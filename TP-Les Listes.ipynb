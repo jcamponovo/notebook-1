{
  "nbformat": 4,
  "nbformat_minor": 0,
  "metadata": {
    "colab": {
      "name": "TP-Les Listes.ipynb",
      "provenance": [],
      "collapsed_sections": [
        "N3aixZCDZXqj",
        "-yhxtn5a5kaf"
      ],
      "toc_visible": true
    },
    "kernelspec": {
      "name": "python3",
      "display_name": "Python 3"
    }
  },
  "cells": [
    {
      "cell_type": "markdown",
      "metadata": {
        "id": "Jrim43CQIT4Q",
        "colab_type": "text"
      },
      "source": [
        "# TP -  Les listes"
      ]
    },
    {
      "cell_type": "markdown",
      "metadata": {
        "id": "uOZE5ib-6g_b",
        "colab_type": "text"
      },
      "source": [
        "***Comme le dit Confucius :\"«  J'entends et j'oublie, Je vois et je me souviens, Je fais et je comprends. »\"***"
      ]
    },
    {
      "cell_type": "markdown",
      "metadata": {
        "id": "rjDtTTFawi4m",
        "colab_type": "text"
      },
      "source": [
        "Écrire votre nom ici :\n",
        "\n",
        "Nom :\n",
        "\n",
        "Classe :"
      ]
    },
    {
      "cell_type": "markdown",
      "metadata": {
        "id": "NkGk_DTEY4S9",
        "colab_type": "text"
      },
      "source": [
        "# Rappel\n",
        "\n",
        "Les listes sont des structures ordonnées de données placées les unes à la suite des autres.\n",
        "\n",
        "* Une liste peut contenir des éléments de tout types (entiers, flottants, chaînes de caractères, d'autres listes...)\n",
        "* Une liste est mutable ( On peut modifier un élément)\n",
        "* Une liste est un objet ( Il y a des méthodes qui permettent d'agir dessus)\n",
        "\n",
        "<hr>"
      ]
    },
    {
      "cell_type": "markdown",
      "metadata": {
        "id": "N3aixZCDZXqj",
        "colab_type": "text"
      },
      "source": [
        "## Création de listes\n",
        "\n",
        "**Il y a deux manières de créer une liste vide**\n",
        "\n",
        "$ma\\_liste=list()$\n",
        "\n",
        "$ma\\_liste=[\\, ]$\n",
        "\n",
        "**On peut également créer une liste qui contient des éléments**\n",
        "\n",
        "$ma\\_liste=[3,5,\"bonjour\",7/5,[1,2,7]]$\n",
        "\n",
        "Les éléments sont séparés par une virgule"
      ]
    },
    {
      "cell_type": "code",
      "metadata": {
        "id": "fAcQFm1_YdIA",
        "colab_type": "code",
        "colab": {}
      },
      "source": [
        "ma_liste=[3,5,\"bonjour\",7/5,[1,2,7]]\n",
        "print(ma_liste)\n"
      ],
      "execution_count": 0,
      "outputs": []
    },
    {
      "cell_type": "markdown",
      "metadata": {
        "id": "v7HkMiEIb5Nx",
        "colab_type": "text"
      },
      "source": [
        "## Accéder aux éléments d'une liste\n",
        "\n",
        "Une liste est une structure de données **ordonnée**, cela signifie que :\n",
        "\n",
        "* Chaque élément d'une liste se repère par son indice\n",
        "* le premier est à l'indice $0$, le second à l'indice $1$ etc..\n",
        "\n",
        "$ma\\_liste=[\\overset{indice\\,0}{3},\\overset{indice\\,1}{5},\\overset{indice\\,2}{\"bonjour\"},\\overset{indice\\,3}{7/5},\\overset{indice\\,4}{[1,2,7]}]$\n",
        "\n",
        "* $5$ est l'élément d'indice $1$, pour y accéder on utilise l'instruction : $ma\\_liste[1]$\n",
        "* $3$ est l'élément d'indice $0$, pour y accéder on utilise l'instruction : $ma\\_liste[0]$\n",
        "\n",
        "### À faire:\n",
        "\n",
        "* Faites afficher l'élément d'indice $3$\n",
        "* L'élément d'indice $4$ est une liste, $7$ en est l'élément d'indice $2$\n",
        "  * $ma\\_liste[4]$ est donc une liste \n",
        "  * Comment faire afficher $7$?"
      ]
    },
    {
      "cell_type": "code",
      "metadata": {
        "id": "xNy3b_bihrZX",
        "colab_type": "code",
        "colab": {}
      },
      "source": [
        "ma_liste=[3,5,\"bonjour\",7/5,[1,2,7]]\n",
        "#Écrire ici\n",
        "\n"
      ],
      "execution_count": 0,
      "outputs": []
    },
    {
      "cell_type": "markdown",
      "metadata": {
        "id": "Usru9TRcA556",
        "colab_type": "text"
      },
      "source": [
        "### Parcourir une liste \n",
        "\n",
        "On peut parcourir une liste en utilsant les indices des éléments "
      ]
    },
    {
      "cell_type": "code",
      "metadata": {
        "id": "cfdAtrqTBIoK",
        "colab_type": "code",
        "colab": {}
      },
      "source": [
        "ma_liste=[3,5,\"bonjour\",7/5,[1,2,7]]\n",
        "\n",
        "for i in range(0,5,1):\n",
        "  print(ma_liste[i])"
      ],
      "execution_count": 0,
      "outputs": []
    },
    {
      "cell_type": "markdown",
      "metadata": {
        "id": "xObIiwWqBcKO",
        "colab_type": "text"
      },
      "source": [
        "On peut simplement parcourir la liste"
      ]
    },
    {
      "cell_type": "code",
      "metadata": {
        "id": "UbwlPHw_Bg7U",
        "colab_type": "code",
        "colab": {}
      },
      "source": [
        "ma_liste=[3,5,\"bonjour\",7/5,[1,2,7]]\n",
        "\n",
        "for element in ma_liste:\n",
        "  print(element)"
      ],
      "execution_count": 0,
      "outputs": []
    },
    {
      "cell_type": "markdown",
      "metadata": {
        "id": "BVi9wAgrBp9g",
        "colab_type": "text"
      },
      "source": [
        "### À faire:\n",
        "\n",
        "Faire afficher les éléments pairs de cette liste"
      ]
    },
    {
      "cell_type": "code",
      "metadata": {
        "id": "Fu1-GDi9CAHi",
        "colab_type": "code",
        "colab": {}
      },
      "source": [
        "liste=[10, 56, 4, 1, 67, 14, 44, 86, 26, 13, 50, 0, 39, 22, 50, 50, 21, 78, 87, 18]\n",
        "# Écrire le code ici\n"
      ],
      "execution_count": 0,
      "outputs": []
    },
    {
      "cell_type": "markdown",
      "metadata": {
        "id": "IJndxYtN9OP3",
        "colab_type": "text"
      },
      "source": [
        "### Modifier un élément de la liste\n",
        "\n",
        "Pour cela il suffit de le remplacer :\n",
        "\n",
        "$ma\\_liste[0]=6$\n",
        "\n",
        "produira : [6,5,\"bonjour\",7/5,[1,2,7]]"
      ]
    },
    {
      "cell_type": "code",
      "metadata": {
        "id": "Kl05oCyh97c0",
        "colab_type": "code",
        "colab": {}
      },
      "source": [
        "# faites un essais ici"
      ],
      "execution_count": 0,
      "outputs": []
    },
    {
      "cell_type": "markdown",
      "metadata": {
        "id": "HdUNrfX91Zpi",
        "colab_type": "text"
      },
      "source": [
        "### Accéder au dernier élément de la liste\n",
        "\n",
        "**Sans connaître son indice...**\n",
        "\n",
        "* Le premier est à l'indice $0$\n",
        "* Le dernier à l'indice $-1$\n",
        "* Le second à l'indice $1$\n",
        "* L'avant dernier à l'indice$-2$"
      ]
    },
    {
      "cell_type": "code",
      "metadata": {
        "id": "Byae-ivw1qKM",
        "colab_type": "code",
        "colab": {}
      },
      "source": [
        "ma_liste=[3,5,\"bonjour\",7/5,[1,2,7]]\n",
        "print(ma_liste[-1])"
      ],
      "execution_count": 0,
      "outputs": []
    },
    {
      "cell_type": "markdown",
      "metadata": {
        "id": "p0q3AAMWh_-v",
        "colab_type": "text"
      },
      "source": [
        "## Ajouter un élément à une liste\n",
        "\n",
        "**Une première méthode**\n",
        "\n",
        "On **ajoute** au sens littéral un élément liste à la liste:\n",
        "\n",
        "\n",
        " $ma\\_liste=ma\\_liste+[\"au\\,\\, revoir\"]$\n",
        " \n",
        "\n",
        "\n",
        "**Une seconde méthode**\n",
        "\n",
        "On utilise une méthode de l'objet liste\n",
        "\n",
        "\n",
        "$ma\\_liste.append(\"au\\,\\, revoir\")$\n",
        "\n",
        "\n",
        "  \n",
        "Dans les deux cas, le contenu de $ma\\_liste$ est : \n",
        " \n",
        " [3, 5, 'bonjour', 1.4, [1, 2, 7], 'au revoir']"
      ]
    },
    {
      "cell_type": "markdown",
      "metadata": {
        "id": "_2kejE--oPux",
        "colab_type": "text"
      },
      "source": [
        "###À faire:\n",
        "\n",
        " Utilisez ces deux méthodes pour ajouter à la liste ci-dessous l'élément :  $[\"un\", \"deux\",\"trois\"]$"
      ]
    },
    {
      "cell_type": "code",
      "metadata": {
        "id": "FzuBVm3jiJCR",
        "colab_type": "code",
        "colab": {}
      },
      "source": [
        "ma_liste=[3,5,\"bonjour\",7/5,[1,2,7]]\n",
        "#Écrire ici"
      ],
      "execution_count": 0,
      "outputs": []
    },
    {
      "cell_type": "markdown",
      "metadata": {
        "id": "ub2scotopU0A",
        "colab_type": "text"
      },
      "source": [
        "## Connaître la longueur d'une liste\n",
        "\n",
        "Pour connaître la longueur d'une liste ( nombre d'éléments de la liste), on utilise la fonction : $len(ma\\_liste)$\n",
        "\n",
        "### À faire :\n",
        "\n",
        "* Exécuter le code ci-dessous \n",
        "* Rajouter ce qu'il faut pour faire afficher la longueur de la liste se trouvant à l'indice 4"
      ]
    },
    {
      "cell_type": "code",
      "metadata": {
        "id": "dTAr1kNDqVYa",
        "colab_type": "code",
        "colab": {}
      },
      "source": [
        "ma_liste=[3,5,\"bonjour\",7/5,[1,2,7]]\n",
        "print(len(ma_liste))"
      ],
      "execution_count": 0,
      "outputs": []
    },
    {
      "cell_type": "markdown",
      "metadata": {
        "id": "_hLtP1VFr-Us",
        "colab_type": "text"
      },
      "source": [
        "## Boucles et listes\n",
        "\n",
        "**On peut utiliser des boucles pour remplir une liste**\n",
        "\n",
        "### Exemple 1 :\n",
        "\n",
        "On utilise ici une boucle pour remplir une liste de $20$ entiers choisis au hasard entre $0$ et $100$"
      ]
    },
    {
      "cell_type": "code",
      "metadata": {
        "id": "OL9Mvdfys0R2",
        "colab_type": "code",
        "colab": {}
      },
      "source": [
        "from random import randint\n",
        "ma_liste=[]\n",
        "for i in range(0,20,1):\n",
        "  ma_liste.append(randint(0,100))\n",
        "  \n",
        "print(ma_liste)\n"
      ],
      "execution_count": 0,
      "outputs": []
    },
    {
      "cell_type": "markdown",
      "metadata": {
        "id": "NX6X2rA7w6IP",
        "colab_type": "text"
      },
      "source": [
        "### Exemple 2:\n",
        "\n",
        "On utilise ici une liste en compréhension, cela produit le même résultat\n",
        "\n",
        "$ma\\_liste=\\overset{est\\, une\\, liste}{[\\overset{ d'entiers\\,au\\,hasard\\,}{randint(0,100)}\\,\\overset{pour\\,i\\,allant\\,de\\,0\\,à\\,19} {for\\,\\, i\\,\\,\\, in \\,\\,range(0,20)}]}$"
      ]
    },
    {
      "cell_type": "code",
      "metadata": {
        "id": "dEGsQfrKxOOI",
        "colab_type": "code",
        "colab": {}
      },
      "source": [
        "from random import randint\n",
        "ma_liste=[randint(0,100) for i in range(0,20)]\n",
        "print(ma_liste)"
      ],
      "execution_count": 0,
      "outputs": []
    },
    {
      "cell_type": "markdown",
      "metadata": {
        "id": "Mr8JWCESzyl1",
        "colab_type": "text"
      },
      "source": [
        "### À faire :\n",
        "\n",
        "Remplir une liste avec les $100$ premiers nombres pairs\n",
        "\n",
        "* En utilisant une boucle classique\n",
        "* En utilisant une liste en compréhesion\n"
      ]
    },
    {
      "cell_type": "code",
      "metadata": {
        "id": "0sdTPsUT0WV7",
        "colab_type": "code",
        "colab": {}
      },
      "source": [
        "#Écrire ici"
      ],
      "execution_count": 0,
      "outputs": []
    },
    {
      "cell_type": "code",
      "metadata": {
        "id": "D1Xbv69K0WnG",
        "colab_type": "code",
        "colab": {}
      },
      "source": [
        "#Écrire ici"
      ],
      "execution_count": 0,
      "outputs": []
    },
    {
      "cell_type": "markdown",
      "metadata": {
        "id": "B2gWff0a2moX",
        "colab_type": "text"
      },
      "source": [
        "## Boucles, conditions et listes\n",
        "\n",
        "**On souhaite obtenir la liste des entiers impairs inférieur à 100 et multiple de $7$**\n",
        "\n",
        "Les codes ci-dessous réalisent ce souhait..."
      ]
    },
    {
      "cell_type": "code",
      "metadata": {
        "id": "oqKbKa4P3h-y",
        "colab_type": "code",
        "colab": {}
      },
      "source": [
        "#code 1\n",
        "ma_liste=[]\n",
        "for i in range(0,50,1):\n",
        "  if (2*i+1)%7==0:\n",
        "    ma_liste.append(2*i+1)\n",
        "print(ma_liste)\n",
        "\n",
        "\n",
        "#code 2\n",
        "ma_liste2=[2*i+1 for i in range(0,50,1) if (2*i+1)%7==0]\n",
        "print(ma_liste2)\n",
        "\n",
        "\n",
        "#code 3\n",
        "ma_liste3=[]\n",
        "i=0\n",
        "while i<=14:\n",
        "  a=7*i\n",
        "  if a%2!=0:\n",
        "    ma_liste3.append(a)\n",
        "  i=i+1\n",
        "print(ma_liste3)"
      ],
      "execution_count": 0,
      "outputs": []
    },
    {
      "cell_type": "markdown",
      "metadata": {
        "id": "-yhxtn5a5kaf",
        "colab_type": "text"
      },
      "source": [
        "### À faire:\n",
        "\n",
        "**Remplir une liste qui contient les  nombres impairs inférieurs à 200 multiples de 3 et de 7**\n",
        "\n",
        "Résultat attendu : [21, 63, 105, 147, 189]"
      ]
    },
    {
      "cell_type": "code",
      "metadata": {
        "id": "MfZZOBUO59XE",
        "colab_type": "code",
        "colab": {}
      },
      "source": [
        "#Écrire ici\n",
        "\n",
        "\n"
      ],
      "execution_count": 0,
      "outputs": []
    },
    {
      "cell_type": "markdown",
      "metadata": {
        "id": "PcwYOFEA-Fie",
        "colab_type": "text"
      },
      "source": [
        "# Les méthodes \n",
        "\n",
        "## À faire :\n",
        "\n",
        "**Pour chacune des méthodes ci-dessous, réaliser un exemple qui illustre la méthode**"
      ]
    },
    {
      "cell_type": "markdown",
      "metadata": {
        "id": "E4XrvMII-ZHJ",
        "colab_type": "text"
      },
      "source": [
        "### ma_liste.extend(L) : Étend la liste en y ajoutant tous les éléments de la liste L fournie "
      ]
    },
    {
      "cell_type": "code",
      "metadata": {
        "id": "E5ccxCrR-lN5",
        "colab_type": "code",
        "colab": {}
      },
      "source": [
        "#Écrire ici"
      ],
      "execution_count": 0,
      "outputs": []
    },
    {
      "cell_type": "markdown",
      "metadata": {
        "id": "yJWCP8h5-onE",
        "colab_type": "text"
      },
      "source": [
        "### ma_liste.insert(i, x): Insère un élément à la position indiquée"
      ]
    },
    {
      "cell_type": "code",
      "metadata": {
        "colab_type": "code",
        "id": "orITLeep-0YE",
        "colab": {}
      },
      "source": [
        "#Écrire ici"
      ],
      "execution_count": 0,
      "outputs": []
    },
    {
      "cell_type": "markdown",
      "metadata": {
        "id": "WiN--oSZ-1kT",
        "colab_type": "text"
      },
      "source": [
        "### ma_liste.remove(x): Supprime de la liste le premier élément dont la valeur est x"
      ]
    },
    {
      "cell_type": "code",
      "metadata": {
        "colab_type": "code",
        "id": "IfOSqlIv-9Q-",
        "colab": {}
      },
      "source": [
        "#Écrire ici"
      ],
      "execution_count": 0,
      "outputs": []
    },
    {
      "cell_type": "markdown",
      "metadata": {
        "id": "hBgVocha_IH4",
        "colab_type": "text"
      },
      "source": [
        "### ma_liste.pop(i) : Enlève de la liste l'élément situé à la position indiquée et retourne l'élément supprimé"
      ]
    },
    {
      "cell_type": "code",
      "metadata": {
        "colab_type": "code",
        "id": "FkqBSKUA_MKD",
        "colab": {}
      },
      "source": [
        "#Écrire ici"
      ],
      "execution_count": 0,
      "outputs": []
    },
    {
      "cell_type": "markdown",
      "metadata": {
        "id": "497FyKgb_M4r",
        "colab_type": "text"
      },
      "source": [
        "### ma_liste.index(x): Retourne la position du premier élément de la liste ayant la valeur x"
      ]
    },
    {
      "cell_type": "code",
      "metadata": {
        "colab_type": "code",
        "id": "zh273Z_r_VNv",
        "colab": {}
      },
      "source": [
        "#Écrire ici"
      ],
      "execution_count": 0,
      "outputs": []
    },
    {
      "cell_type": "markdown",
      "metadata": {
        "id": "WKZ89GPh_gkW",
        "colab_type": "text"
      },
      "source": [
        "### ma_liste.count(x): Retourne le nombre d'éléments ayant la valeur x dans la liste"
      ]
    },
    {
      "cell_type": "code",
      "metadata": {
        "colab_type": "code",
        "id": "A2lO9YBs_kDA",
        "colab": {}
      },
      "source": [
        "#Écrire ici"
      ],
      "execution_count": 0,
      "outputs": []
    },
    {
      "cell_type": "markdown",
      "metadata": {
        "id": "BV-e-4tX_kql",
        "colab_type": "text"
      },
      "source": [
        "### ma_liste.sort(): Trier les éléments sur place"
      ]
    },
    {
      "cell_type": "code",
      "metadata": {
        "colab_type": "code",
        "id": "cORpXQFf_s0P",
        "colab": {}
      },
      "source": [
        "#Écrire ici"
      ],
      "execution_count": 0,
      "outputs": []
    },
    {
      "cell_type": "markdown",
      "metadata": {
        "id": "s5TW-tdO_vOi",
        "colab_type": "text"
      },
      "source": [
        "### L=sorted(ma_liste) : Retourne dans L la liste triée\n",
        "\n",
        "il s'agit ici d'une fonction qui permet de stocker la liste triée dans une autre liste sans changer la liste 'ma_liste'"
      ]
    },
    {
      "cell_type": "code",
      "metadata": {
        "colab_type": "code",
        "id": "3cWKIfTB_2aU",
        "colab": {}
      },
      "source": [
        "#Écrire ici"
      ],
      "execution_count": 0,
      "outputs": []
    },
    {
      "cell_type": "markdown",
      "metadata": {
        "id": "5dlzfrTv_6lm",
        "colab_type": "text"
      },
      "source": [
        "### list.reverse(): Inverse l'ordre des éléments de la liste"
      ]
    },
    {
      "cell_type": "code",
      "metadata": {
        "colab_type": "code",
        "id": "1IxExAqf_-us",
        "colab": {}
      },
      "source": [
        "#Écrire ici"
      ],
      "execution_count": 0,
      "outputs": []
    },
    {
      "cell_type": "markdown",
      "metadata": {
        "id": "6QCE_eTJSfnJ",
        "colab_type": "text"
      },
      "source": [
        "# Exercice - 1\n",
        "\n",
        "Écrire une fonction qui affiche le maximum et son indice d'une liste prise en paramètre\n",
        "\n",
        "On aura créé une liste de 20 entiers pris au hasard entre 0 et 100."
      ]
    },
    {
      "cell_type": "code",
      "metadata": {
        "id": "SKvTXUWxSzgt",
        "colab_type": "code",
        "colab": {}
      },
      "source": [
        "from random import randint\n",
        "def maximum(liste):\n",
        "  # à compléter\n"
      ],
      "execution_count": 0,
      "outputs": []
    },
    {
      "cell_type": "markdown",
      "metadata": {
        "id": "3KVpP-dBqeWC",
        "colab_type": "text"
      },
      "source": [
        "# Exercice - 2\n",
        "\n",
        "La valeur la plus souvent présente dans une liste s'appelle son mode.\n",
        "\n",
        "Exemple :\n",
        "\n",
        "Si L = [12, 15, 13, 15, 14, 12, 15, 13], son mode est 15.\n",
        "\n",
        "Écrire une fonction qui attend une liste d'entiers et qui affiche son mode."
      ]
    },
    {
      "cell_type": "code",
      "metadata": {
        "id": "Di0yn-if1q8h",
        "colab_type": "code",
        "colab": {}
      },
      "source": [
        "def mode(liste):\n",
        "  # à compléter\n",
        "\n",
        "    \n",
        "\n",
        "    \n",
        "L = [12, 15, 13, 15, 14, 12, 15, 13]\n",
        "mode(L)\n"
      ],
      "execution_count": 0,
      "outputs": []
    },
    {
      "cell_type": "markdown",
      "metadata": {
        "id": "Y9B7ByLlSkZ5",
        "colab_type": "text"
      },
      "source": [
        "#Exercice - 3\n",
        "\n",
        "Écrire une fonction qui fait afficher le minimum d'une liste de 50 entiers naturels générés de façon aléatoire."
      ]
    },
    {
      "cell_type": "code",
      "metadata": {
        "colab_type": "code",
        "id": "VP__KrCmTLhG",
        "colab": {}
      },
      "source": [
        "from random import randint\n",
        "def minimum(liste):\n",
        "  # à compléter\n"
      ],
      "execution_count": 0,
      "outputs": []
    }
  ]
}