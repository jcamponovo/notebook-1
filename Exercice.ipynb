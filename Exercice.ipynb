{
  "nbformat": 4,
  "nbformat_minor": 0,
  "metadata": {
    "kernelspec": {
      "display_name": "Python 3",
      "language": "python",
      "name": "python3"
    },
    "language_info": {
      "codemirror_mode": {
        "name": "ipython",
        "version": 3
      },
      "file_extension": ".py",
      "mimetype": "text/x-python",
      "name": "python",
      "nbconvert_exporter": "python",
      "pygments_lexer": "ipython3",
      "version": "3.7.2"
    },
    "colab": {
      "name": "Exercice.ipynb",
      "provenance": []
    }
  },
  "cells": [
    {
      "cell_type": "markdown",
      "metadata": {
        "id": "FjXInNJ-c1xU",
        "colab_type": "text"
      },
      "source": [
        "# Exercice: traitement des données (format json)"
      ]
    },
    {
      "cell_type": "markdown",
      "metadata": {
        "id": "f-sfVbEvc1xc",
        "colab_type": "text"
      },
      "source": [
        "Écrire votre nom ici :\n",
        "\n",
        "Nom :\n",
        "\n",
        "Classe :"
      ]
    },
    {
      "cell_type": "markdown",
      "metadata": {
        "id": "fEVFHxKIc1xg",
        "colab_type": "text"
      },
      "source": [
        "## Objectif\n",
        "\n",
        "**On observe la structure d'un fichier json (sur openfoodfact) en ligne**\n",
        "\n",
        "**À l'aide du TP (météo) on imagine un programme qui affiche des données sur un produit ( le taux de sucre, le % de sel, etc..)**\n",
        "\n",
        "### Le site d'openfoodfact\n",
        "\n",
        "Rendez vous sur le site : https://fr.openfoodfacts.org/\n",
        "\n",
        "En cliquant sur un produit, on a accès à des informations sur le produit.\n",
        "\n",
        "Si on récupère son code barre, par exemple :3029330003533\n",
        "\n",
        "Et qu'on lance l'url :  https://fr.openfoodfacts.org/api/v0/produit/3029330003533.json\n",
        "\n",
        "On est redirigé vers un fichier json qui est un dictionnaire contenant des dictionnaires, des listes...\n",
        "\n",
        "<pre>\n",
        "{\n",
        "  \"code\": \"3029330003533\",\n",
        "  \"product\": {\n",
        "    \"allergens_tags\": [\n",
        "      \"en:gluten\"\n",
        "    ],\n",
        "    \"allergens_from_user\": \"(fr)Gluten\",\n",
        "    \"image_front_small_url\": \"https://static.openfoodfacts.org/images/products/302/933/000/3533/front_fr.96.200.jpg\",\n",
        "    \"emb_codes_20141016\": \"\",\n",
        "    \"fruits-vegetables-nuts_100g_estimate\": 0,\n",
        "    \"states\": \"en:to-be-checked, en:complete, en:nutrition-facts-completed, en:ingredients-completed, en:expiration-date-completed, en:packaging-code-to-be-completed, en:characteristics-completed, en:categories-completed, en:brands-completed, en:packaging-completed, en:quantity-completed, en:product-name-completed, en:photos-validated, en:photos-uploaded\",\n",
        "    \"pnns_groups_2\": \"Bread\",\n",
        "    \"allergens_hierarchy\": [\n",
        "      \"en:gluten\"\n",
        "    ],\n",
        "    ...\n",
        "    </pre>\n",
        "\n",
        "***Pour d'autres produits il suffit de modifier le code barre...***"
      ]
    },
    {
      "cell_type": "markdown",
      "metadata": {
        "id": "UxFKUr0sc1xl",
        "colab_type": "text"
      },
      "source": [
        "## L'exercice :\n",
        "\n",
        "**Écrire une fonction qui prend en entrée un code barre et qui affiche :**\n",
        "* l'image du produit\n",
        "* son nom\n",
        "* son taux de sucre\n",
        "* son taux de sel\n",
        "* autant d'autres informations que vous souhaitez..."
      ]
    },
    {
      "cell_type": "code",
      "metadata": {
        "id": "yKihRC8Uc1xq",
        "colab_type": "code",
        "colab": {}
      },
      "source": [
        "# Écrire le code ici"
      ],
      "execution_count": 0,
      "outputs": []
    }
  ]
}