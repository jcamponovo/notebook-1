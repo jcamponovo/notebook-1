{
  "nbformat": 4,
  "nbformat_minor": 0,
  "metadata": {
    "kernelspec": {
      "display_name": "Python 3",
      "language": "python",
      "name": "python3"
    },
    "language_info": {
      "codemirror_mode": {
        "name": "ipython",
        "version": 3
      },
      "file_extension": ".py",
      "mimetype": "text/x-python",
      "name": "python",
      "nbconvert_exporter": "python",
      "pygments_lexer": "ipython3",
      "version": "3.7.2"
    },
    "colab": {
      "name": "TP_dictionnaire_meteo.ipynb",
      "provenance": [],
      "collapsed_sections": []
    }
  },
  "cells": [
    {
      "cell_type": "markdown",
      "metadata": {
        "id": "QHpbi8GT-Ola",
        "colab_type": "text"
      },
      "source": [
        "# TP - Traitement des données (format json)"
      ]
    },
    {
      "cell_type": "markdown",
      "metadata": {
        "id": "ntgFCNa6-Oly",
        "colab_type": "text"
      },
      "source": [
        "***Comme le dit Confucius :\"«  J'entends et j'oublie, Je vois et je me souviens, Je fais et je comprends. »\"***"
      ]
    },
    {
      "cell_type": "markdown",
      "metadata": {
        "id": "-bd15nmD-Ol8",
        "colab_type": "text"
      },
      "source": [
        "Écrire votre nom ici :\n",
        "\n",
        "Nom :\n",
        "\n",
        "Classe :"
      ]
    },
    {
      "cell_type": "markdown",
      "metadata": {
        "id": "QkzD_YDj-OmG",
        "colab_type": "text"
      },
      "source": [
        "## Objectif : faire afficher des données météo d'une ville..."
      ]
    },
    {
      "cell_type": "markdown",
      "metadata": {
        "id": "EyFebxHU-OmN",
        "colab_type": "text"
      },
      "source": [
        "Certains site proposent d'accéder à des données.\n",
        "\n",
        "Le site: https://weatherstack.com donne accès aux données météo du jour.\n",
        "\n",
        "De plus ce site fournit ces données au format json.\n",
        "\n",
        "Suivez ce lien pour observer les données :  http://api.weatherstack.com/current?access_key=ae53a97a4aaffb9b508ee776458312e8&query=Draguignan\n",
        "\n",
        "On utilise ici une clé API (la mienne..) au cas où cela ne fonctionne pas ou plus il faut vous créer une clé API(c'est préférable) sur le site d'weatherstak en y créant un compte ( gratuit : sign up free)\n",
        "\n",
        "\n",
        "**Dans l'onglet \" données brutes \" et \"formater et indenter\", on voit ( pour le 20/10 de cette année) :**\n",
        "<pre>\n",
        "{\n",
        "  \"request\": {\n",
        "    \"type\": \"City\",\n",
        "    \"query\": \"Draguignan, France\",\n",
        "    \"language\": \"en\",\n",
        "    \"unit\": \"m\"\n",
        "  },\n",
        "  \"location\": {\n",
        "    \"name\": \"Draguignan\",\n",
        "    \"country\": \"France\",\n",
        "    \"region\": \"Provence-Alpes-Cote d'Azur\",\n",
        "    \"lat\": \"43.533\",\n",
        "    \"lon\": \"6.467\",\n",
        "    \"timezone_id\": \"Europe/Paris\",\n",
        "    \"localtime\": \"2019-10-20 10:51\",\n",
        "    \"localtime_epoch\": 1571568660,\n",
        "    \"utc_offset\": \"2.0\"\n",
        "  },\n",
        "  \"current\": {\n",
        "    \"observation_time\": \"08:51 AM\",\n",
        "    \"temperature\": 21,\n",
        "    \"weather_code\": 116,\n",
        "    \"weather_icons\": [\n",
        "      \"https://assets.weatherstack.com/images/wsymbols01_png_64/wsymbol_0002_sunny_intervals.png\"\n",
        "    ],\n",
        "    \"weather_descriptions\": [\n",
        "      \"Partly cloudy\"\n",
        "    ],\n",
        "    \"wind_speed\": 24,\n",
        "    \"wind_degree\": 90,\n",
        "    \"wind_dir\": \"E\",\n",
        "    \"pressure\": 1013,\n",
        "    \"precip\": 0,\n",
        "    \"humidity\": 78,\n",
        "    \"cloudcover\": 25,\n",
        "    \"feelslike\": 21,\n",
        "    \"uv_index\": 6,\n",
        "    \"visibility\": 10,\n",
        "    \"is_day\": \"yes\"\n",
        "  }\n",
        "}\n",
        "</pre>"
      ]
    },
    {
      "cell_type": "markdown",
      "metadata": {
        "id": "1Mj7DaBS-OmV",
        "colab_type": "text"
      },
      "source": [
        "**En y regardant de plus près, on s'aperçoit que la structure est un dictionnaire qui contient des dictionnaires...**"
      ]
    },
    {
      "cell_type": "markdown",
      "metadata": {
        "id": "QP9GEV-Z-Omb",
        "colab_type": "text"
      },
      "source": [
        "**Questions :**\n",
        "\n",
        "* Quelles sont les clés du dictionnaire principal ?\n",
        "* La clé \"location\" a pour valeur un dictionnaire qui contient combien de clés ?\n",
        "* Donner le chemin qui permet d'atteindre la température en degré de la ville de draguignan ce jour.."
      ]
    },
    {
      "cell_type": "markdown",
      "metadata": {
        "id": "x_E8a6ZY-Oml",
        "colab_type": "text"
      },
      "source": [
        "**Répondre ici:**"
      ]
    },
    {
      "cell_type": "markdown",
      "metadata": {
        "id": "oGxET7Rd-Omp",
        "colab_type": "text"
      },
      "source": [
        "## Nous allons faire afficher des données de météo avec un programme..\n",
        "\n",
        "### Charger le fichier...\n",
        "\n",
        "En Python pour charger un fichier json en ligne, on utilisera la bibliothèque urllib3 et la bibliothèque json.\n",
        "\n",
        "Si ces deux bibliorhèques ne sont pas déjà installées\n",
        "* Dans WinPython : lancer WinPython command prompt.exe et écrire : pip install urllib3  (Entrée pour valider)\n",
        "* Dans ce notebook, il suffit d'exécuter une cellule avec : pip install urllib3\n",
        "\n",
        "de même pour la bibliothèque json (pip install json)\n",
        "\n",
        "**Le script ci-dessous charge dans un dictionnaire (reponse) les données récupérées sur le site de apixu**"
      ]
    },
    {
      "cell_type": "code",
      "metadata": {
        "id": "MWO310hE-Omw",
        "colab_type": "code",
        "colab": {}
      },
      "source": [
        "#import des bibliothèques\n",
        "import urllib3\n",
        "import json\n",
        "\n",
        "# chargement du fichier\n",
        "http = urllib3.PoolManager()\n",
        "url_param=\"http://api.weatherstack.com/current?access_key=ae53a97a4aaffb9b508ee776458312e8&query=Draguignan\"\n",
        "r = http.request('GET',url_param)\n",
        "reponse=json.loads(r.data.decode('utf-8'))\n",
        "# affichage de la réponse...\n",
        "print(reponse)"
      ],
      "execution_count": 0,
      "outputs": []
    },
    {
      "cell_type": "markdown",
      "metadata": {
        "id": "mBodDC1o-OnN",
        "colab_type": "text"
      },
      "source": [
        "### Accéder aux données \n",
        "\n",
        "Pour accéder par exemple à la date et l'heure d'accès de ce fichier, on utilise l'instruction suivante :\n"
      ]
    },
    {
      "cell_type": "code",
      "metadata": {
        "id": "wEhilgeT-OnT",
        "colab_type": "code",
        "colab": {}
      },
      "source": [
        "#import des bibliothèques\n",
        "import urllib3\n",
        "import json\n",
        "\n",
        "# chargement du fichier\n",
        "http = urllib3.PoolManager()\n",
        "url_param=\"http://api.weatherstack.com/current?access_key=ae53a97a4aaffb9b508ee776458312e8&query=Draguignan\"\n",
        "r = http.request('GET',url_param)\n",
        "reponse=json.loads(r.data.decode('utf-8'))\n",
        "# affichage de la date\n",
        "print(\"Date: \" ,reponse[\"location\"][\"localtime\"])"
      ],
      "execution_count": 0,
      "outputs": []
    },
    {
      "cell_type": "markdown",
      "metadata": {
        "id": "U81iH4Xp-Oni",
        "colab_type": "text"
      },
      "source": [
        "### À faire:\n",
        "\n",
        "Faites en sorte que l'affichage donne :\n",
        "<pre>\n",
        "Lieu:  Draguignan    Région:  Provence-Alpes-Cote d'Azur    Pays:  France\n",
        "Date:  2019-08-05 16:26\n",
        "temps:  Sunny\n",
        "température:  33.0 °\n",
        "Indice UV:  8.0\n",
        "...autres infos ...\n",
        "</pre>"
      ]
    },
    {
      "cell_type": "code",
      "metadata": {
        "id": "qz8RcMBe-Ono",
        "colab_type": "code",
        "colab": {}
      },
      "source": [
        "#Écrire le code ici"
      ],
      "execution_count": 0,
      "outputs": []
    },
    {
      "cell_type": "markdown",
      "metadata": {
        "id": "A3TIb7f0-Ons",
        "colab_type": "text"
      },
      "source": [
        "### Faire afficher l'icône fournie\n",
        "\n",
        "On peut faire afficher l'icône fournie par ce fichier à l'aide du module : <b>urllib.request</b> et de la bibliothèque <b>pillow</b> (pour les images)\n",
        "\n",
        "le script suivant, affiche l'icône récupérée sur le site d'apixu\n",
        "\n",
        "***Remarque : dans la variable url_param, la dernière partie à été remplacée par une variable, ce qui permet de changer de ville à volonté***"
      ]
    },
    {
      "cell_type": "code",
      "metadata": {
        "id": "dzgyhW0a-Onv",
        "colab_type": "code",
        "colab": {}
      },
      "source": [
        "# import des bibliothèques\n",
        "import urllib3\n",
        "import json\n",
        "import urllib.request\n",
        "from PIL import Image\n",
        "# chargement du fichier json\n",
        "http = urllib3.PoolManager()\n",
        "ville=\"draguignan\"\n",
        "url_param=\"http://api.weatherstack.com/current?access_key=ae53a97a4aaffb9b508ee776458312e8&query=\"+ville\n",
        "r = http.request('GET',url_param)\n",
        "reponse=json.loads(r.data.decode('utf-8'))\n",
        "\n",
        "# récupération de l'url de l'image\n",
        "url_image=reponse[\"current\"][\"weather_icons\"][0]\n",
        "#print(url_image)\n",
        "#chargement de l'image\n",
        "image = Image.open(urllib.request.urlopen(url_image))\n",
        "#affichage de l'image\n",
        "display(image)"
      ],
      "execution_count": 0,
      "outputs": []
    },
    {
      "cell_type": "markdown",
      "metadata": {
        "id": "d_5fyo1r-OoF",
        "colab_type": "text"
      },
      "source": [
        "### À faire :\n",
        "\n",
        "**Écrire une fonction qui reçoit en paramètre le nom d'une ville entrée par l'utilisateur et qui affiche un maximum de données météos...**"
      ]
    },
    {
      "cell_type": "code",
      "metadata": {
        "id": "SSiRIqxy-OoH",
        "colab_type": "code",
        "colab": {}
      },
      "source": [
        "#Écrire le code ici"
      ],
      "execution_count": 0,
      "outputs": []
    }
  ]
}